{
 "cells": [
  {
   "cell_type": "code",
   "execution_count": 1,
   "metadata": {},
   "outputs": [
    {
     "name": "stderr",
     "output_type": "stream",
     "text": [
      "Using TensorFlow backend.\n",
      "/home/muhsin/anaconda3/lib/python3.6/importlib/_bootstrap.py:219: RuntimeWarning: compiletime version 3.5 of module 'tensorflow.python.framework.fast_tensor_util' does not match runtime version 3.6\n",
      "  return f(*args, **kwds)\n"
     ]
    }
   ],
   "source": [
    "import numpy as np\n",
    "from keras.models import Sequential\n",
    "from keras.layers import Dropout\n",
    "from keras.layers import Dense\n",
    "from keras.layers import LSTM\n",
    "from keras.preprocessing import sequence\n",
    "from get_data_rnn import load_data_by_num\n",
    "from encoder_fcn_generate_data import load_fcn_encoding"
   ]
  },
  {
   "cell_type": "code",
   "execution_count": 2,
   "metadata": {},
   "outputs": [
    {
     "data": {
      "text/plain": [
       "((100, 6), (100, 8400))"
      ]
     },
     "execution_count": 2,
     "metadata": {},
     "output_type": "execute_result"
    }
   ],
   "source": [
    "# consensus network\n",
    "X_1, y_1 = load_data_by_num(1)\n",
    "X_2, y_2 = load_data_by_num(2)\n",
    "\n",
    "X = np.vstack((X_1, X_2))\n",
    "y = np.vstack((y_1, y_2))\n",
    "\n",
    "y.shape, X.shape"
   ]
  },
  {
   "cell_type": "code",
   "execution_count": 3,
   "metadata": {},
   "outputs": [
    {
     "data": {
      "text/plain": [
       "(100, 100, 84)"
      ]
     },
     "execution_count": 3,
     "metadata": {},
     "output_type": "execute_result"
    }
   ],
   "source": [
    "# reshape such that [samples, time-step, features]\n",
    "X = np.reshape(X, (X.shape[0], 100, 84))\n",
    "\n",
    "X.shape\n",
    "# 100 sample videos, for each with 100 frames (some padding), and each frame\n",
    "# containing a vector of 120 features"
   ]
  },
  {
   "cell_type": "code",
   "execution_count": 4,
   "metadata": {},
   "outputs": [],
   "source": [
    "# X_1, y_1 = load_fcn_encoding(1)\n",
    "# X_2, y_2 = load_fcn_encoding(2)\n",
    "# X_ = np.vstack((X_1, X_2))\n",
    "# y_ = np.vstack((y_1, y_2))\n",
    "\n",
    "# X_.shape, y_.shape\n",
    "\n",
    "# X_, y = X_, y_"
   ]
  },
  {
   "cell_type": "code",
   "execution_count": 5,
   "metadata": {},
   "outputs": [],
   "source": [
    "from sklearn.model_selection import train_test_split\n",
    "X_train, X_test, y_train, y_test = train_test_split(X, y, test_size=0.30, random_state=42)"
   ]
  },
  {
   "cell_type": "code",
   "execution_count": 6,
   "metadata": {},
   "outputs": [
    {
     "data": {
      "text/plain": [
       "((70, 100, 84), (70, 6), (30, 100, 84), (30, 6))"
      ]
     },
     "execution_count": 6,
     "metadata": {},
     "output_type": "execute_result"
    }
   ],
   "source": [
    "X_train.shape, y_train.shape, X_test.shape, y_test.shape"
   ]
  },
  {
   "cell_type": "code",
   "execution_count": 7,
   "metadata": {},
   "outputs": [],
   "source": [
    "model = Sequential()\n",
    "model.add(LSTM(100, return_sequences=False, input_shape=(X_train.shape[1], X_train.shape[2])))\n",
    "# model.add(Dropout(0.2))\n",
    "# model.add(LSTM(10, return_sequences=False))\n",
    "model.add(Dense(2000, activation='relu'))\n",
    "model.add(Dropout(0.2))\n",
    "model.add(Dense(1000, activation='relu'))\n",
    "model.add(Dropout(0.2))\n",
    "model.add(Dense(100, activation='relu'))\n",
    "model.add(Dropout(0.2))\n",
    "model.add(Dense(6, activation='softmax'))\n",
    "model.compile(loss='categorical_crossentropy', optimizer='adam', metrics=['accuracy'])"
   ]
  },
  {
   "cell_type": "code",
   "execution_count": 8,
   "metadata": {},
   "outputs": [
    {
     "name": "stdout",
     "output_type": "stream",
     "text": [
      "_________________________________________________________________\n",
      "Layer (type)                 Output Shape              Param #   \n",
      "=================================================================\n",
      "lstm_1 (LSTM)                (None, 100)               74000     \n",
      "_________________________________________________________________\n",
      "dense_1 (Dense)              (None, 2000)              202000    \n",
      "_________________________________________________________________\n",
      "dropout_1 (Dropout)          (None, 2000)              0         \n",
      "_________________________________________________________________\n",
      "dense_2 (Dense)              (None, 1000)              2001000   \n",
      "_________________________________________________________________\n",
      "dropout_2 (Dropout)          (None, 1000)              0         \n",
      "_________________________________________________________________\n",
      "dense_3 (Dense)              (None, 100)               100100    \n",
      "_________________________________________________________________\n",
      "dropout_3 (Dropout)          (None, 100)               0         \n",
      "_________________________________________________________________\n",
      "dense_4 (Dense)              (None, 6)                 606       \n",
      "=================================================================\n",
      "Total params: 2,377,706\n",
      "Trainable params: 2,377,706\n",
      "Non-trainable params: 0\n",
      "_________________________________________________________________\n",
      "None\n"
     ]
    }
   ],
   "source": [
    "print(model.summary())"
   ]
  },
  {
   "cell_type": "code",
   "execution_count": 9,
   "metadata": {},
   "outputs": [
    {
     "name": "stdout",
     "output_type": "stream",
     "text": [
      "Train on 70 samples, validate on 30 samples\n",
      "Epoch 1/50\n",
      "1s - loss: 1.0677 - acc: 0.7857 - val_loss: 0.1406 - val_acc: 0.9667\n",
      "Epoch 2/50\n",
      "0s - loss: 0.0324 - acc: 1.0000 - val_loss: 1.3889e-04 - val_acc: 1.0000\n",
      "Epoch 3/50\n",
      "0s - loss: 4.2795e-04 - acc: 1.0000 - val_loss: 1.4484e-06 - val_acc: 1.0000\n",
      "Epoch 4/50\n",
      "0s - loss: 0.0012 - acc: 1.0000 - val_loss: 3.3180e-07 - val_acc: 1.0000\n",
      "Epoch 5/50\n",
      "0s - loss: 3.4332e-05 - acc: 1.0000 - val_loss: 3.2783e-07 - val_acc: 1.0000\n",
      "Epoch 6/50\n",
      "0s - loss: 0.0013 - acc: 1.0000 - val_loss: 2.3773e-05 - val_acc: 1.0000\n",
      "Epoch 7/50\n",
      "0s - loss: 0.0118 - acc: 0.9857 - val_loss: 1.4504e-07 - val_acc: 1.0000\n",
      "Epoch 8/50\n",
      "0s - loss: 0.0017 - acc: 1.0000 - val_loss: 2.4021e-06 - val_acc: 1.0000\n",
      "Epoch 9/50\n",
      "0s - loss: 3.7399e-04 - acc: 1.0000 - val_loss: 1.1921e-07 - val_acc: 1.0000\n",
      "Epoch 10/50\n",
      "0s - loss: 1.9693e-05 - acc: 1.0000 - val_loss: 1.1921e-07 - val_acc: 1.0000\n",
      "Epoch 11/50\n",
      "0s - loss: 1.2439e-05 - acc: 1.0000 - val_loss: 1.1921e-07 - val_acc: 1.0000\n",
      "Epoch 12/50\n",
      "0s - loss: 8.9153e-07 - acc: 1.0000 - val_loss: 1.1921e-07 - val_acc: 1.0000\n",
      "Epoch 13/50\n",
      "0s - loss: 2.8440e-07 - acc: 1.0000 - val_loss: 1.1921e-07 - val_acc: 1.0000\n",
      "Epoch 14/50\n",
      "0s - loss: 1.9670e-07 - acc: 1.0000 - val_loss: 1.1921e-07 - val_acc: 1.0000\n",
      "Epoch 15/50\n",
      "0s - loss: 1.4986e-07 - acc: 1.0000 - val_loss: 1.1921e-07 - val_acc: 1.0000\n",
      "Epoch 16/50\n",
      "0s - loss: 2.7929e-07 - acc: 1.0000 - val_loss: 1.1921e-07 - val_acc: 1.0000\n",
      "Epoch 17/50\n",
      "0s - loss: 4.5215e-07 - acc: 1.0000 - val_loss: 1.1921e-07 - val_acc: 1.0000\n",
      "Epoch 18/50\n",
      "0s - loss: 2.6907e-07 - acc: 1.0000 - val_loss: 1.1921e-07 - val_acc: 1.0000\n",
      "Epoch 19/50\n",
      "0s - loss: 3.1591e-07 - acc: 1.0000 - val_loss: 1.1921e-07 - val_acc: 1.0000\n",
      "Epoch 20/50\n",
      "0s - loss: 1.6349e-07 - acc: 1.0000 - val_loss: 1.1921e-07 - val_acc: 1.0000\n",
      "Epoch 21/50\n",
      "0s - loss: 5.8669e-07 - acc: 1.0000 - val_loss: 1.1921e-07 - val_acc: 1.0000\n",
      "Epoch 22/50\n",
      "0s - loss: 1.3113e-07 - acc: 1.0000 - val_loss: 1.1921e-07 - val_acc: 1.0000\n",
      "Epoch 23/50\n",
      "0s - loss: 1.2432e-07 - acc: 1.0000 - val_loss: 1.1921e-07 - val_acc: 1.0000\n",
      "Epoch 24/50\n",
      "0s - loss: 2.0095e-07 - acc: 1.0000 - val_loss: 1.1921e-07 - val_acc: 1.0000\n",
      "Epoch 25/50\n",
      "0s - loss: 8.0212e-07 - acc: 1.0000 - val_loss: 1.1921e-07 - val_acc: 1.0000\n",
      "Epoch 26/50\n",
      "0s - loss: 7.2464e-07 - acc: 1.0000 - val_loss: 1.1921e-07 - val_acc: 1.0000\n",
      "Epoch 27/50\n",
      "0s - loss: 8.4385e-07 - acc: 1.0000 - val_loss: 1.1921e-07 - val_acc: 1.0000\n",
      "Epoch 28/50\n",
      "0s - loss: 2.3927e-07 - acc: 1.0000 - val_loss: 1.1921e-07 - val_acc: 1.0000\n",
      "Epoch 29/50\n",
      "0s - loss: 1.2432e-07 - acc: 1.0000 - val_loss: 1.1921e-07 - val_acc: 1.0000\n",
      "Epoch 30/50\n",
      "0s - loss: 1.3283e-07 - acc: 1.0000 - val_loss: 1.1921e-07 - val_acc: 1.0000\n",
      "Epoch 31/50\n",
      "0s - loss: 1.4390e-07 - acc: 1.0000 - val_loss: 1.1921e-07 - val_acc: 1.0000\n",
      "Epoch 32/50\n",
      "0s - loss: 2.5715e-07 - acc: 1.0000 - val_loss: 1.1921e-07 - val_acc: 1.0000\n",
      "Epoch 33/50\n",
      "0s - loss: 1.1921e-07 - acc: 1.0000 - val_loss: 1.1921e-07 - val_acc: 1.0000\n",
      "Epoch 34/50\n",
      "0s - loss: 1.3982e-06 - acc: 1.0000 - val_loss: 1.1921e-07 - val_acc: 1.0000\n",
      "Epoch 35/50\n",
      "0s - loss: 1.3198e-07 - acc: 1.0000 - val_loss: 1.1921e-07 - val_acc: 1.0000\n",
      "Epoch 36/50\n",
      "0s - loss: 6.0883e-07 - acc: 1.0000 - val_loss: 1.1921e-07 - val_acc: 1.0000\n",
      "Epoch 37/50\n",
      "0s - loss: 8.1681e-06 - acc: 1.0000 - val_loss: 1.1921e-07 - val_acc: 1.0000\n",
      "Epoch 38/50\n",
      "0s - loss: 1.3965e-07 - acc: 1.0000 - val_loss: 1.1921e-07 - val_acc: 1.0000\n",
      "Epoch 39/50\n",
      "0s - loss: 1.3965e-07 - acc: 1.0000 - val_loss: 1.1921e-07 - val_acc: 1.0000\n",
      "Epoch 40/50\n",
      "0s - loss: 1.9414e-07 - acc: 1.0000 - val_loss: 1.1921e-07 - val_acc: 1.0000\n",
      "Epoch 41/50\n",
      "0s - loss: 1.1921e-07 - acc: 1.0000 - val_loss: 1.1921e-07 - val_acc: 1.0000\n",
      "Epoch 42/50\n",
      "0s - loss: 3.4401e-07 - acc: 1.0000 - val_loss: 1.1921e-07 - val_acc: 1.0000\n",
      "Epoch 43/50\n",
      "0s - loss: 1.6349e-07 - acc: 1.0000 - val_loss: 1.1921e-07 - val_acc: 1.0000\n",
      "Epoch 44/50\n",
      "0s - loss: 1.5497e-07 - acc: 1.0000 - val_loss: 1.1921e-07 - val_acc: 1.0000\n",
      "Epoch 45/50\n",
      "0s - loss: 4.5470e-07 - acc: 1.0000 - val_loss: 1.1921e-07 - val_acc: 1.0000\n",
      "Epoch 46/50\n",
      "0s - loss: 1.2943e-07 - acc: 1.0000 - val_loss: 1.1921e-07 - val_acc: 1.0000\n",
      "Epoch 47/50\n",
      "0s - loss: 1.2347e-07 - acc: 1.0000 - val_loss: 1.1921e-07 - val_acc: 1.0000\n",
      "Epoch 48/50\n",
      "0s - loss: 5.9557e-06 - acc: 1.0000 - val_loss: 1.1921e-07 - val_acc: 1.0000\n",
      "Epoch 49/50\n",
      "0s - loss: 1.9244e-07 - acc: 1.0000 - val_loss: 1.1921e-07 - val_acc: 1.0000\n",
      "Epoch 50/50\n",
      "0s - loss: 2.1543e-07 - acc: 1.0000 - val_loss: 1.1921e-07 - val_acc: 1.0000\n"
     ]
    }
   ],
   "source": [
    "history = model.fit(X_train, y_train, validation_data=(X_test, y_test), epochs=50, batch_size=10, verbose=2)"
   ]
  },
  {
   "cell_type": "code",
   "execution_count": null,
   "metadata": {},
   "outputs": [],
   "source": [
    "import matplotlib.pyplot as plt\n",
    "# list all data in history\n",
    "print(history.history.keys())\n",
    "# summarize history for accuracy\n",
    "plt.plot(history.history['acc'][:3])\n",
    "plt.plot(history.history['val_acc'][:3])\n",
    "plt.title('model accuracy')\n",
    "plt.ylabel('accuracy')\n",
    "plt.xlabel('epoch')\n",
    "plt.legend(['train', 'test'], loc='upper left')\n",
    "plt.show()\n",
    "# summarize history for loss\n",
    "plt.plot(history.history['loss'][:5])\n",
    "plt.plot(history.history['val_loss'][:5])\n",
    "plt.title('model loss')\n",
    "plt.ylabel('loss')\n",
    "plt.xlabel('epoch')\n",
    "plt.legend(['train', 'test'], loc='upper left')\n",
    "plt.show()"
   ]
  },
  {
   "cell_type": "code",
   "execution_count": null,
   "metadata": {},
   "outputs": [],
   "source": [
    "# Final evaluation of the model\n",
    "scores = model.evaluate(X_test, y_test, verbose=1)\n",
    "print(\"Accuracy: %.2f%%\" % (scores[1]*100))"
   ]
  },
  {
   "cell_type": "code",
   "execution_count": 12,
   "metadata": {},
   "outputs": [
    {
     "data": {
      "text/plain": [
       "(30, 100, 84)"
      ]
     },
     "execution_count": 12,
     "metadata": {},
     "output_type": "execute_result"
    }
   ],
   "source": [
    "X_test.shape"
   ]
  },
  {
   "cell_type": "code",
   "execution_count": 13,
   "metadata": {},
   "outputs": [
    {
     "name": "stdout",
     "output_type": "stream",
     "text": [
      "*\tprediction --> 4, actual --> 4\n",
      "*\tprediction --> 0, actual --> 0\n",
      "*\tprediction --> 2, actual --> 2\n",
      "*\tprediction --> 5, actual --> 5\n",
      "*\tprediction --> 5, actual --> 5\n",
      "*\tprediction --> 4, actual --> 4\n",
      "*\tprediction --> 2, actual --> 2\n",
      "*\tprediction --> 4, actual --> 4\n",
      "*\tprediction --> 1, actual --> 1\n",
      "*\tprediction --> 0, actual --> 0\n",
      "*\tprediction --> 1, actual --> 1\n",
      "*\tprediction --> 4, actual --> 4\n",
      "*\tprediction --> 2, actual --> 2\n",
      "*\tprediction --> 4, actual --> 4\n",
      "*\tprediction --> 5, actual --> 5\n",
      "*\tprediction --> 0, actual --> 0\n",
      "*\tprediction --> 2, actual --> 2\n",
      "*\tprediction --> 2, actual --> 2\n",
      "*\tprediction --> 1, actual --> 1\n",
      "*\tprediction --> 4, actual --> 4\n",
      "*\tprediction --> 0, actual --> 0\n",
      "*\tprediction --> 4, actual --> 4\n",
      "*\tprediction --> 2, actual --> 2\n",
      "*\tprediction --> 5, actual --> 5\n",
      "*\tprediction --> 1, actual --> 1\n",
      "*\tprediction --> 1, actual --> 1\n",
      "*\tprediction --> 5, actual --> 5\n",
      "*\tprediction --> 5, actual --> 5\n",
      "*\tprediction --> 0, actual --> 0\n",
      "*\tprediction --> 2, actual --> 2\n"
     ]
    }
   ],
   "source": [
    "for i in range(X_test.shape[0]):\n",
    "    temp = np.reshape(X_test[i], (1, X_test[i].shape[0], X_test[i].shape[1]))\n",
    "    temp_class = model.predict_classes(temp, verbose=0)[0]\n",
    "    actual_class = y_test[i].argmax()\n",
    "    truth = \"*\" if actual_class==temp_class else \"/\"\n",
    "    print(\"{}\\tprediction --> {}, actual --> {}\".format(truth, temp_class, actual_class))"
   ]
  },
  {
   "cell_type": "code",
   "execution_count": 16,
   "metadata": {},
   "outputs": [
    {
     "name": "stdout",
     "output_type": "stream",
     "text": [
      "%\tprediction --> 0, actual --> 0\n",
      "%\tprediction --> 0, actual --> 0\n",
      "%\tprediction --> 0, actual --> 0\n",
      "%\tprediction --> 0, actual --> 0\n",
      "%\tprediction --> 0, actual --> 0\n",
      "%\tprediction --> 0, actual --> 0\n",
      "%\tprediction --> 0, actual --> 0\n",
      "%\tprediction --> 0, actual --> 0\n",
      "%\tprediction --> 0, actual --> 0\n",
      "%\tprediction --> 0, actual --> 0\n",
      "%\tprediction --> 1, actual --> 1\n",
      "%\tprediction --> 1, actual --> 1\n",
      "%\tprediction --> 1, actual --> 1\n",
      "%\tprediction --> 1, actual --> 1\n",
      "%\tprediction --> 1, actual --> 1\n",
      "%\tprediction --> 1, actual --> 1\n",
      "%\tprediction --> 1, actual --> 1\n",
      "%\tprediction --> 1, actual --> 1\n",
      "%\tprediction --> 1, actual --> 1\n",
      "%\tprediction --> 1, actual --> 1\n",
      "%\tprediction --> 2, actual --> 2\n",
      "%\tprediction --> 2, actual --> 2\n",
      "%\tprediction --> 2, actual --> 2\n",
      "%\tprediction --> 2, actual --> 2\n",
      "%\tprediction --> 2, actual --> 2\n",
      "%\tprediction --> 2, actual --> 2\n",
      "%\tprediction --> 2, actual --> 2\n",
      "%\tprediction --> 2, actual --> 2\n",
      "%\tprediction --> 2, actual --> 2\n",
      "%\tprediction --> 2, actual --> 2\n",
      "%\tprediction --> 4, actual --> 4\n",
      "%\tprediction --> 4, actual --> 4\n",
      "%\tprediction --> 4, actual --> 4\n",
      "%\tprediction --> 4, actual --> 4\n",
      "%\tprediction --> 4, actual --> 4\n",
      "%\tprediction --> 4, actual --> 4\n",
      "%\tprediction --> 4, actual --> 4\n",
      "%\tprediction --> 4, actual --> 4\n",
      "%\tprediction --> 4, actual --> 4\n",
      "%\tprediction --> 4, actual --> 4\n",
      "%\tprediction --> 5, actual --> 5\n",
      "%\tprediction --> 5, actual --> 5\n",
      "%\tprediction --> 5, actual --> 5\n",
      "%\tprediction --> 5, actual --> 5\n",
      "%\tprediction --> 5, actual --> 5\n",
      "%\tprediction --> 5, actual --> 5\n",
      "%\tprediction --> 5, actual --> 5\n",
      "%\tprediction --> 5, actual --> 5\n",
      "%\tprediction --> 5, actual --> 5\n",
      "%\tprediction --> 5, actual --> 5\n",
      "%\tprediction --> 0, actual --> 0\n",
      "%\tprediction --> 0, actual --> 0\n",
      "%\tprediction --> 0, actual --> 0\n",
      "%\tprediction --> 0, actual --> 0\n",
      "%\tprediction --> 0, actual --> 0\n",
      "%\tprediction --> 0, actual --> 0\n",
      "%\tprediction --> 0, actual --> 0\n",
      "%\tprediction --> 0, actual --> 0\n",
      "%\tprediction --> 0, actual --> 0\n",
      "%\tprediction --> 0, actual --> 0\n",
      "%\tprediction --> 1, actual --> 1\n",
      "%\tprediction --> 1, actual --> 1\n",
      "%\tprediction --> 1, actual --> 1\n",
      "%\tprediction --> 1, actual --> 1\n",
      "%\tprediction --> 1, actual --> 1\n",
      "%\tprediction --> 1, actual --> 1\n",
      "%\tprediction --> 1, actual --> 1\n",
      "%\tprediction --> 1, actual --> 1\n",
      "%\tprediction --> 1, actual --> 1\n",
      "%\tprediction --> 1, actual --> 1\n",
      "%\tprediction --> 2, actual --> 2\n",
      "%\tprediction --> 2, actual --> 2\n",
      "%\tprediction --> 2, actual --> 2\n",
      "%\tprediction --> 2, actual --> 2\n",
      "%\tprediction --> 2, actual --> 2\n",
      "%\tprediction --> 2, actual --> 2\n",
      "%\tprediction --> 2, actual --> 2\n",
      "%\tprediction --> 2, actual --> 2\n",
      "%\tprediction --> 2, actual --> 2\n",
      "%\tprediction --> 2, actual --> 2\n",
      "%\tprediction --> 4, actual --> 4\n",
      "%\tprediction --> 4, actual --> 4\n",
      "%\tprediction --> 4, actual --> 4\n",
      "%\tprediction --> 4, actual --> 4\n",
      "%\tprediction --> 4, actual --> 4\n",
      "%\tprediction --> 4, actual --> 4\n",
      "%\tprediction --> 4, actual --> 4\n",
      "%\tprediction --> 4, actual --> 4\n",
      "%\tprediction --> 4, actual --> 4\n",
      "%\tprediction --> 4, actual --> 4\n",
      "%\tprediction --> 5, actual --> 5\n",
      "%\tprediction --> 5, actual --> 5\n",
      "%\tprediction --> 5, actual --> 5\n",
      "%\tprediction --> 5, actual --> 5\n",
      "%\tprediction --> 5, actual --> 5\n",
      "%\tprediction --> 5, actual --> 5\n",
      "%\tprediction --> 5, actual --> 5\n",
      "%\tprediction --> 5, actual --> 5\n",
      "%\tprediction --> 5, actual --> 5\n",
      "%\tprediction --> 5, actual --> 5\n"
     ]
    }
   ],
   "source": [
    "for i in range(X.shape[0]):\n",
    "    temp = np.reshape(X[i], (1, X[i].shape[0], X[i].shape[1]))\n",
    "    temp_class = model.predict_classes(temp, verbose=0)[0]\n",
    "    actual_class = y[i].argmax()\n",
    "    truth = \"%\" if actual_class==temp_class else \"\\\\\"\n",
    "    print(\"{}\\tprediction --> {}, actual --> {}\".format(truth, temp_class, actual_class))"
   ]
  },
  {
   "cell_type": "code",
   "execution_count": 17,
   "metadata": {},
   "outputs": [],
   "source": [
    "class_num = []\n",
    "for y_c in y_test:\n",
    "    class_num.append(y_c.argmax())"
   ]
  },
  {
   "cell_type": "code",
   "execution_count": 18,
   "metadata": {},
   "outputs": [
    {
     "name": "stdout",
     "output_type": "stream",
     "text": [
      "0 5\n",
      "1 5\n",
      "2 7\n",
      "3 0\n",
      "4 7\n",
      "5 6\n"
     ]
    }
   ],
   "source": [
    "for i in range(6):\n",
    "    print(i, class_num.count(i))"
   ]
  },
  {
   "cell_type": "code",
   "execution_count": 19,
   "metadata": {},
   "outputs": [
    {
     "name": "stdout",
     "output_type": "stream",
     "text": [
      "100/100 [==============================] - 0s     \n",
      "Accuracy: 100.00%\n"
     ]
    }
   ],
   "source": [
    "# Final evaluation of the model\n",
    "scores = model.evaluate(X, y, verbose=1)\n",
    "print(\"Accuracy: %.2f%%\" % (scores[1]*100))"
   ]
  },
  {
   "cell_type": "code",
   "execution_count": 20,
   "metadata": {},
   "outputs": [
    {
     "data": {
      "text/plain": [
       "array([[  1.88780675e-12,   3.76296134e-16,   2.84664925e-15,\n",
       "          1.46542073e-20,   1.00000000e+00,   2.19654958e-12]], dtype=float32)"
      ]
     },
     "execution_count": 20,
     "metadata": {},
     "output_type": "execute_result"
    }
   ],
   "source": [
    "tester = np.reshape(X_test[0], (1, X_test[0].shape[0], X_test[0].shape[1]))\n",
    "model.predict(tester)"
   ]
  },
  {
   "cell_type": "code",
   "execution_count": 21,
   "metadata": {},
   "outputs": [
    {
     "name": "stdout",
     "output_type": "stream",
     "text": [
      "1/1 [==============================] - 0s\n"
     ]
    },
    {
     "data": {
      "text/plain": [
       "array([4])"
      ]
     },
     "execution_count": 21,
     "metadata": {},
     "output_type": "execute_result"
    }
   ],
   "source": [
    "model.predict_classes(tester)"
   ]
  },
  {
   "cell_type": "code",
   "execution_count": 22,
   "metadata": {},
   "outputs": [],
   "source": [
    "dir_to_save = './rnn_model/model_fc2_main.h5'"
   ]
  },
  {
   "cell_type": "code",
   "execution_count": 23,
   "metadata": {},
   "outputs": [],
   "source": [
    "model.save(dir_to_save)"
   ]
  },
  {
   "cell_type": "code",
   "execution_count": 24,
   "metadata": {},
   "outputs": [],
   "source": [
    "# type two model"
   ]
  },
  {
   "cell_type": "code",
   "execution_count": 26,
   "metadata": {},
   "outputs": [
    {
     "name": "stdout",
     "output_type": "stream",
     "text": [
      "_________________________________________________________________\n",
      "Layer (type)                 Output Shape              Param #   \n",
      "=================================================================\n",
      "lstm_1 (LSTM)                (None, 100)               74000     \n",
      "_________________________________________________________________\n",
      "dense_1 (Dense)              (None, 2000)              202000    \n",
      "_________________________________________________________________\n",
      "dropout_1 (Dropout)          (None, 2000)              0         \n",
      "_________________________________________________________________\n",
      "dense_2 (Dense)              (None, 1000)              2001000   \n",
      "_________________________________________________________________\n",
      "dropout_2 (Dropout)          (None, 1000)              0         \n",
      "_________________________________________________________________\n",
      "dense_3 (Dense)              (None, 100)               100100    \n",
      "_________________________________________________________________\n",
      "dropout_3 (Dropout)          (None, 100)               0         \n",
      "_________________________________________________________________\n",
      "dense_4 (Dense)              (None, 6)                 606       \n",
      "=================================================================\n",
      "Total params: 2,377,706\n",
      "Trainable params: 2,377,706\n",
      "Non-trainable params: 0\n",
      "_________________________________________________________________\n"
     ]
    },
    {
     "ename": "ValueError",
     "evalue": "Error when checking input: expected lstm_1_input to have shape (None, 100, 84) but got array with shape (100, 100, 160)",
     "output_type": "error",
     "traceback": [
      "\u001b[0;31m---------------------------------------------------------------------------\u001b[0m",
      "\u001b[0;31mValueError\u001b[0m                                Traceback (most recent call last)",
      "\u001b[0;32m<ipython-input-26-e876fbab3248>\u001b[0m in \u001b[0;36m<module>\u001b[0;34m()\u001b[0m\n\u001b[1;32m     13\u001b[0m \u001b[0;34m\u001b[0m\u001b[0m\n\u001b[1;32m     14\u001b[0m \u001b[0;31m# Final evaluation of the model\u001b[0m\u001b[0;34m\u001b[0m\u001b[0;34m\u001b[0m\u001b[0m\n\u001b[0;32m---> 15\u001b[0;31m \u001b[0mscores\u001b[0m \u001b[0;34m=\u001b[0m \u001b[0mmodel\u001b[0m\u001b[0;34m.\u001b[0m\u001b[0mevaluate\u001b[0m\u001b[0;34m(\u001b[0m\u001b[0mX_\u001b[0m\u001b[0;34m,\u001b[0m \u001b[0my_\u001b[0m\u001b[0;34m,\u001b[0m \u001b[0mverbose\u001b[0m\u001b[0;34m=\u001b[0m\u001b[0;36m1\u001b[0m\u001b[0;34m)\u001b[0m\u001b[0;34m\u001b[0m\u001b[0m\n\u001b[0m\u001b[1;32m     16\u001b[0m \u001b[0mprint\u001b[0m\u001b[0;34m(\u001b[0m\u001b[0;34m\"Accuracy: %.2f%%\"\u001b[0m \u001b[0;34m%\u001b[0m \u001b[0;34m(\u001b[0m\u001b[0mscores\u001b[0m\u001b[0;34m[\u001b[0m\u001b[0;36m1\u001b[0m\u001b[0;34m]\u001b[0m\u001b[0;34m*\u001b[0m\u001b[0;36m100\u001b[0m\u001b[0;34m)\u001b[0m\u001b[0;34m)\u001b[0m\u001b[0;34m\u001b[0m\u001b[0m\n",
      "\u001b[0;32m/home/muhsin/anaconda3/lib/python3.6/site-packages/keras/models.py\u001b[0m in \u001b[0;36mevaluate\u001b[0;34m(self, x, y, batch_size, verbose, sample_weight)\u001b[0m\n\u001b[1;32m    890\u001b[0m                                    \u001b[0mbatch_size\u001b[0m\u001b[0;34m=\u001b[0m\u001b[0mbatch_size\u001b[0m\u001b[0;34m,\u001b[0m\u001b[0;34m\u001b[0m\u001b[0m\n\u001b[1;32m    891\u001b[0m                                    \u001b[0mverbose\u001b[0m\u001b[0;34m=\u001b[0m\u001b[0mverbose\u001b[0m\u001b[0;34m,\u001b[0m\u001b[0;34m\u001b[0m\u001b[0m\n\u001b[0;32m--> 892\u001b[0;31m                                    sample_weight=sample_weight)\n\u001b[0m\u001b[1;32m    893\u001b[0m \u001b[0;34m\u001b[0m\u001b[0m\n\u001b[1;32m    894\u001b[0m     \u001b[0;32mdef\u001b[0m \u001b[0mpredict\u001b[0m\u001b[0;34m(\u001b[0m\u001b[0mself\u001b[0m\u001b[0;34m,\u001b[0m \u001b[0mx\u001b[0m\u001b[0;34m,\u001b[0m \u001b[0mbatch_size\u001b[0m\u001b[0;34m=\u001b[0m\u001b[0;36m32\u001b[0m\u001b[0;34m,\u001b[0m \u001b[0mverbose\u001b[0m\u001b[0;34m=\u001b[0m\u001b[0;36m0\u001b[0m\u001b[0;34m)\u001b[0m\u001b[0;34m:\u001b[0m\u001b[0;34m\u001b[0m\u001b[0m\n",
      "\u001b[0;32m/home/muhsin/anaconda3/lib/python3.6/site-packages/keras/engine/training.py\u001b[0m in \u001b[0;36mevaluate\u001b[0;34m(self, x, y, batch_size, verbose, sample_weight)\u001b[0m\n\u001b[1;32m   1462\u001b[0m             \u001b[0msample_weight\u001b[0m\u001b[0;34m=\u001b[0m\u001b[0msample_weight\u001b[0m\u001b[0;34m,\u001b[0m\u001b[0;34m\u001b[0m\u001b[0m\n\u001b[1;32m   1463\u001b[0m             \u001b[0mcheck_batch_axis\u001b[0m\u001b[0;34m=\u001b[0m\u001b[0;32mFalse\u001b[0m\u001b[0;34m,\u001b[0m\u001b[0;34m\u001b[0m\u001b[0m\n\u001b[0;32m-> 1464\u001b[0;31m             batch_size=batch_size)\n\u001b[0m\u001b[1;32m   1465\u001b[0m         \u001b[0;31m# Prepare inputs, delegate logic to `_test_loop`.\u001b[0m\u001b[0;34m\u001b[0m\u001b[0;34m\u001b[0m\u001b[0m\n\u001b[1;32m   1466\u001b[0m         \u001b[0;32mif\u001b[0m \u001b[0mself\u001b[0m\u001b[0;34m.\u001b[0m\u001b[0muses_learning_phase\u001b[0m \u001b[0;32mand\u001b[0m \u001b[0;32mnot\u001b[0m \u001b[0misinstance\u001b[0m\u001b[0;34m(\u001b[0m\u001b[0mK\u001b[0m\u001b[0;34m.\u001b[0m\u001b[0mlearning_phase\u001b[0m\u001b[0;34m(\u001b[0m\u001b[0;34m)\u001b[0m\u001b[0;34m,\u001b[0m \u001b[0mint\u001b[0m\u001b[0;34m)\u001b[0m\u001b[0;34m:\u001b[0m\u001b[0;34m\u001b[0m\u001b[0m\n",
      "\u001b[0;32m/home/muhsin/anaconda3/lib/python3.6/site-packages/keras/engine/training.py\u001b[0m in \u001b[0;36m_standardize_user_data\u001b[0;34m(self, x, y, sample_weight, class_weight, check_batch_axis, batch_size)\u001b[0m\n\u001b[1;32m   1232\u001b[0m                                     \u001b[0mself\u001b[0m\u001b[0;34m.\u001b[0m\u001b[0m_feed_input_shapes\u001b[0m\u001b[0;34m,\u001b[0m\u001b[0;34m\u001b[0m\u001b[0m\n\u001b[1;32m   1233\u001b[0m                                     \u001b[0mcheck_batch_axis\u001b[0m\u001b[0;34m=\u001b[0m\u001b[0;32mFalse\u001b[0m\u001b[0;34m,\u001b[0m\u001b[0;34m\u001b[0m\u001b[0m\n\u001b[0;32m-> 1234\u001b[0;31m                                     exception_prefix='input')\n\u001b[0m\u001b[1;32m   1235\u001b[0m         y = _standardize_input_data(y, self._feed_output_names,\n\u001b[1;32m   1236\u001b[0m                                     \u001b[0moutput_shapes\u001b[0m\u001b[0;34m,\u001b[0m\u001b[0;34m\u001b[0m\u001b[0m\n",
      "\u001b[0;32m/home/muhsin/anaconda3/lib/python3.6/site-packages/keras/engine/training.py\u001b[0m in \u001b[0;36m_standardize_input_data\u001b[0;34m(data, names, shapes, check_batch_axis, exception_prefix)\u001b[0m\n\u001b[1;32m    138\u001b[0m                             \u001b[0;34m' to have shape '\u001b[0m \u001b[0;34m+\u001b[0m \u001b[0mstr\u001b[0m\u001b[0;34m(\u001b[0m\u001b[0mshapes\u001b[0m\u001b[0;34m[\u001b[0m\u001b[0mi\u001b[0m\u001b[0;34m]\u001b[0m\u001b[0;34m)\u001b[0m \u001b[0;34m+\u001b[0m\u001b[0;34m\u001b[0m\u001b[0m\n\u001b[1;32m    139\u001b[0m                             \u001b[0;34m' but got array with shape '\u001b[0m \u001b[0;34m+\u001b[0m\u001b[0;34m\u001b[0m\u001b[0m\n\u001b[0;32m--> 140\u001b[0;31m                             str(array.shape))\n\u001b[0m\u001b[1;32m    141\u001b[0m     \u001b[0;32mreturn\u001b[0m \u001b[0marrays\u001b[0m\u001b[0;34m\u001b[0m\u001b[0m\n\u001b[1;32m    142\u001b[0m \u001b[0;34m\u001b[0m\u001b[0m\n",
      "\u001b[0;31mValueError\u001b[0m: Error when checking input: expected lstm_1_input to have shape (None, 100, 84) but got array with shape (100, 100, 160)"
     ]
    }
   ],
   "source": [
    "## test from saved model!\n",
    "\n",
    "from keras.models import load_model\n",
    "# dir_to_save = './rnn_model/model_fcn_net.h5'\n",
    "dir_to_save = './rnn_model/model_fc2_main.h5'\n",
    "model = load_model(dir_to_save)\n",
    "model.summary()\n",
    "\n",
    "X_1, y_1 = load_fcn_encoding(1)\n",
    "X_2, y_2 = load_fcn_encoding(2)\n",
    "X_ = np.vstack((X_1, X_2))\n",
    "y_ = np.vstack((y_1, y_2))\n",
    "\n",
    "# Final evaluation of the model\n",
    "scores = model.evaluate(X_, y_, verbose=1)\n",
    "print(\"Accuracy: %.2f%%\" % (scores[1]*100))"
   ]
  },
  {
   "cell_type": "code",
   "execution_count": null,
   "metadata": {},
   "outputs": [],
   "source": []
  }
 ],
 "metadata": {
  "kernelspec": {
   "display_name": "Python 3",
   "language": "python",
   "name": "python3"
  },
  "language_info": {
   "codemirror_mode": {
    "name": "ipython",
    "version": 3
   },
   "file_extension": ".py",
   "mimetype": "text/x-python",
   "name": "python",
   "nbconvert_exporter": "python",
   "pygments_lexer": "ipython3",
   "version": "3.6.3"
  }
 },
 "nbformat": 4,
 "nbformat_minor": 2
}
