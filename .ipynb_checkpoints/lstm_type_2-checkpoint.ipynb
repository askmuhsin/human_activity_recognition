{
 "cells": [
  {
   "cell_type": "code",
   "execution_count": 1,
   "metadata": {},
   "outputs": [
    {
     "name": "stderr",
     "output_type": "stream",
     "text": [
      "Using TensorFlow backend.\n",
      "/home/muhsin/anaconda3/lib/python3.6/importlib/_bootstrap.py:219: RuntimeWarning: compiletime version 3.5 of module 'tensorflow.python.framework.fast_tensor_util' does not match runtime version 3.6\n",
      "  return f(*args, **kwds)\n"
     ]
    }
   ],
   "source": [
    "import numpy as np\n",
    "from keras.models import Sequential\n",
    "from keras.layers import Dropout\n",
    "from keras.layers import Dense\n",
    "from keras.layers import LSTM\n",
    "from keras.preprocessing import sequence\n",
    "from get_data_rnn import load_data_by_num"
   ]
  },
  {
   "cell_type": "code",
   "execution_count": 2,
   "metadata": {},
   "outputs": [
    {
     "data": {
      "text/plain": [
       "((100, 6), (100, 8400))"
      ]
     },
     "execution_count": 2,
     "metadata": {},
     "output_type": "execute_result"
    }
   ],
   "source": [
    "# consensus network\n",
    "X_1, y_1 = load_data_by_num(1)\n",
    "X_2, y_2 = load_data_by_num(2)\n",
    "\n",
    "X = np.vstack((X_1, X_2))\n",
    "y = np.vstack((y_1, y_2))\n",
    "\n",
    "y.shape, X.shape"
   ]
  },
  {
   "cell_type": "code",
   "execution_count": 3,
   "metadata": {},
   "outputs": [
    {
     "data": {
      "text/plain": [
       "(100, 100, 84)"
      ]
     },
     "execution_count": 3,
     "metadata": {},
     "output_type": "execute_result"
    }
   ],
   "source": [
    "# reshape such that [samples, time-step, features]\n",
    "X = np.reshape(X, (X.shape[0], 100, 84))\n",
    "\n",
    "X.shape\n",
    "# 100 sample videos, for each with 100 frames (some padding), and each frame\n",
    "# containing a vector of 120 features"
   ]
  },
  {
   "cell_type": "code",
   "execution_count": 6,
   "metadata": {},
   "outputs": [],
   "source": [
    "from sklearn.model_selection import train_test_split\n",
    "X_train, X_test, y_train, y_test = train_test_split(X, y, test_size=0.40, random_state=42)"
   ]
  },
  {
   "cell_type": "code",
   "execution_count": 7,
   "metadata": {},
   "outputs": [
    {
     "data": {
      "text/plain": [
       "((60, 100, 84), (60, 6), (40, 100, 84), (40, 6))"
      ]
     },
     "execution_count": 7,
     "metadata": {},
     "output_type": "execute_result"
    }
   ],
   "source": [
    "X_train.shape, y_train.shape, X_test.shape, y_test.shape"
   ]
  },
  {
   "cell_type": "code",
   "execution_count": 8,
   "metadata": {},
   "outputs": [],
   "source": [
    "model = Sequential()\n",
    "model.add(LSTM(100, return_sequences=False, input_shape=(X_train.shape[1], X_train.shape[2])))\n",
    "model.add(Dense(2000, activation='relu'))\n",
    "model.add(Dropout(0.2))\n",
    "model.add(Dense(1000, activation='relu'))\n",
    "model.add(Dropout(0.2))\n",
    "model.add(Dense(100, activation='relu'))\n",
    "model.add(Dropout(0.2))\n",
    "model.add(Dense(6, activation='softmax'))\n",
    "model.compile(loss='categorical_crossentropy', optimizer='adam', metrics=['accuracy'])"
   ]
  },
  {
   "cell_type": "code",
   "execution_count": 9,
   "metadata": {},
   "outputs": [
    {
     "name": "stdout",
     "output_type": "stream",
     "text": [
      "_________________________________________________________________\n",
      "Layer (type)                 Output Shape              Param #   \n",
      "=================================================================\n",
      "lstm_1 (LSTM)                (None, 100)               74000     \n",
      "_________________________________________________________________\n",
      "dense_1 (Dense)              (None, 2000)              202000    \n",
      "_________________________________________________________________\n",
      "dropout_1 (Dropout)          (None, 2000)              0         \n",
      "_________________________________________________________________\n",
      "dense_2 (Dense)              (None, 1000)              2001000   \n",
      "_________________________________________________________________\n",
      "dropout_2 (Dropout)          (None, 1000)              0         \n",
      "_________________________________________________________________\n",
      "dense_3 (Dense)              (None, 100)               100100    \n",
      "_________________________________________________________________\n",
      "dropout_3 (Dropout)          (None, 100)               0         \n",
      "_________________________________________________________________\n",
      "dense_4 (Dense)              (None, 6)                 606       \n",
      "=================================================================\n",
      "Total params: 2,377,706\n",
      "Trainable params: 2,377,706\n",
      "Non-trainable params: 0\n",
      "_________________________________________________________________\n",
      "None\n"
     ]
    }
   ],
   "source": [
    "print(model.summary())"
   ]
  },
  {
   "cell_type": "code",
   "execution_count": 10,
   "metadata": {},
   "outputs": [
    {
     "name": "stdout",
     "output_type": "stream",
     "text": [
      "Train on 60 samples, validate on 40 samples\n",
      "Epoch 1/25\n",
      "1s - loss: 1.3727 - acc: 0.5667 - val_loss: 0.5851 - val_acc: 0.9500\n",
      "Epoch 2/25\n",
      "0s - loss: 0.1810 - acc: 0.9667 - val_loss: 0.0112 - val_acc: 1.0000\n",
      "Epoch 3/25\n",
      "0s - loss: 0.0386 - acc: 0.9667 - val_loss: 0.0059 - val_acc: 1.0000\n",
      "Epoch 4/25\n",
      "0s - loss: 9.8774e-04 - acc: 1.0000 - val_loss: 0.0107 - val_acc: 1.0000\n",
      "Epoch 5/25\n",
      "0s - loss: 0.0922 - acc: 0.9667 - val_loss: 9.7521e-04 - val_acc: 1.0000\n",
      "Epoch 6/25\n",
      "0s - loss: 0.0290 - acc: 0.9833 - val_loss: 5.0007e-05 - val_acc: 1.0000\n",
      "Epoch 7/25\n",
      "0s - loss: 0.0011 - acc: 1.0000 - val_loss: 3.7354e-05 - val_acc: 1.0000\n",
      "Epoch 8/25\n",
      "0s - loss: 1.3958e-06 - acc: 1.0000 - val_loss: 6.0344e-04 - val_acc: 1.0000\n",
      "Epoch 9/25\n",
      "0s - loss: 4.7795e-06 - acc: 1.0000 - val_loss: 0.0050 - val_acc: 1.0000\n",
      "Epoch 10/25\n",
      "0s - loss: 2.8626e-05 - acc: 1.0000 - val_loss: 0.0152 - val_acc: 1.0000\n",
      "Epoch 11/25\n",
      "0s - loss: 6.2252e-06 - acc: 1.0000 - val_loss: 0.0248 - val_acc: 0.9750\n",
      "Epoch 12/25\n",
      "0s - loss: 4.5003e-06 - acc: 1.0000 - val_loss: 0.0312 - val_acc: 0.9750\n",
      "Epoch 13/25\n",
      "0s - loss: 1.2426e-04 - acc: 1.0000 - val_loss: 0.0257 - val_acc: 0.9750\n",
      "Epoch 14/25\n",
      "0s - loss: 6.3341e-05 - acc: 1.0000 - val_loss: 0.0220 - val_acc: 0.9750\n",
      "Epoch 15/25\n",
      "0s - loss: 1.7219e-05 - acc: 1.0000 - val_loss: 0.0146 - val_acc: 1.0000\n",
      "Epoch 16/25\n",
      "0s - loss: 4.0015e-06 - acc: 1.0000 - val_loss: 0.0107 - val_acc: 1.0000\n",
      "Epoch 17/25\n",
      "0s - loss: 9.4512e-06 - acc: 1.0000 - val_loss: 0.0081 - val_acc: 1.0000\n",
      "Epoch 18/25\n",
      "0s - loss: 7.1427e-07 - acc: 1.0000 - val_loss: 0.0064 - val_acc: 1.0000\n",
      "Epoch 19/25\n",
      "0s - loss: 9.1692e-07 - acc: 1.0000 - val_loss: 0.0054 - val_acc: 1.0000\n",
      "Epoch 20/25\n",
      "0s - loss: 4.2411e-06 - acc: 1.0000 - val_loss: 0.0046 - val_acc: 1.0000\n",
      "Epoch 21/25\n",
      "0s - loss: 4.1974e-06 - acc: 1.0000 - val_loss: 0.0037 - val_acc: 1.0000\n",
      "Epoch 22/25\n",
      "0s - loss: 6.3777e-07 - acc: 1.0000 - val_loss: 0.0033 - val_acc: 1.0000\n",
      "Epoch 23/25\n",
      "0s - loss: 5.7179e-06 - acc: 1.0000 - val_loss: 0.0026 - val_acc: 1.0000\n",
      "Epoch 24/25\n",
      "0s - loss: 1.8676e-07 - acc: 1.0000 - val_loss: 0.0012 - val_acc: 1.0000\n",
      "Epoch 25/25\n",
      "0s - loss: 2.3941e-07 - acc: 1.0000 - val_loss: 7.2151e-04 - val_acc: 1.0000\n"
     ]
    }
   ],
   "source": [
    "history = model.fit(X_train, y_train, validation_data=(X_test, y_test), epochs=25, batch_size=10, verbose=2)"
   ]
  },
  {
   "cell_type": "code",
   "execution_count": 16,
   "metadata": {},
   "outputs": [
    {
     "name": "stdout",
     "output_type": "stream",
     "text": [
      "dict_keys(['val_loss', 'val_acc', 'loss', 'acc'])\n"
     ]
    },
    {
     "data": {
      "image/png": "[encoded data removed]",
      "text/plain": [
       "<matplotlib.figure.Figure at 0x7fac984549e8>"
      ]
     },
     "metadata": {},
     "output_type": "display_data"
    },
    {
     "data": {
      "image/png": "[encoded data removed]",
      "text/plain": [
       "<matplotlib.figure.Figure at 0x7fac98417940>"
      ]
     },
     "metadata": {},
     "output_type": "display_data"
    }
   ],
   "source": [
    "import matplotlib.pyplot as plt\n",
    "# list all data in history\n",
    "print(history.history.keys())\n",
    "# summarize history for accuracy\n",
    "plt.plot(history.history['acc'][:7])\n",
    "plt.plot(history.history['val_acc'][:7])\n",
    "plt.title('model accuracy')\n",
    "plt.ylabel('accuracy')\n",
    "plt.xlabel('epoch')\n",
    "plt.legend(['train', 'test'], loc='upper left')\n",
    "plt.show()\n",
    "# summarize history for loss\n",
    "plt.plot(history.history['loss'][:7])\n",
    "plt.plot(history.history['val_loss'][:7])\n",
    "plt.title('model loss')\n",
    "plt.ylabel('loss')\n",
    "plt.xlabel('epoch')\n",
    "plt.legend(['train', 'test'], loc='upper left')\n",
    "plt.show()"
   ]
  },
  {
   "cell_type": "code",
   "execution_count": 17,
   "metadata": {},
   "outputs": [
    {
     "name": "stdout",
     "output_type": "stream",
     "text": [
      "32/40 [=======================>......] - ETA: 0sAccuracy: 100.00%\n"
     ]
    }
   ],
   "source": [
    "# Final evaluation of the model\n",
    "scores = model.evaluate(X_test, y_test, verbose=1)\n",
    "print(\"Accuracy: %.2f%%\" % (scores[1]*100))"
   ]
  },
  {
   "cell_type": "code",
   "execution_count": 18,
   "metadata": {},
   "outputs": [
    {
     "data": {
      "text/plain": [
       "(40, 100, 84)"
      ]
     },
     "execution_count": 18,
     "metadata": {},
     "output_type": "execute_result"
    }
   ],
   "source": [
    "X_test.shape"
   ]
  },
  {
   "cell_type": "code",
   "execution_count": 19,
   "metadata": {},
   "outputs": [
    {
     "name": "stdout",
     "output_type": "stream",
     "text": [
      "*\tprediction --> 4, actual --> 4\n",
      "*\tprediction --> 0, actual --> 0\n",
      "*\tprediction --> 2, actual --> 2\n",
      "*\tprediction --> 5, actual --> 5\n",
      "*\tprediction --> 5, actual --> 5\n",
      "*\tprediction --> 4, actual --> 4\n",
      "*\tprediction --> 2, actual --> 2\n",
      "*\tprediction --> 4, actual --> 4\n",
      "*\tprediction --> 1, actual --> 1\n",
      "*\tprediction --> 0, actual --> 0\n",
      "*\tprediction --> 1, actual --> 1\n",
      "*\tprediction --> 4, actual --> 4\n",
      "*\tprediction --> 2, actual --> 2\n",
      "*\tprediction --> 4, actual --> 4\n",
      "*\tprediction --> 5, actual --> 5\n",
      "*\tprediction --> 0, actual --> 0\n",
      "*\tprediction --> 2, actual --> 2\n",
      "*\tprediction --> 2, actual --> 2\n",
      "*\tprediction --> 1, actual --> 1\n",
      "*\tprediction --> 4, actual --> 4\n",
      "*\tprediction --> 0, actual --> 0\n",
      "*\tprediction --> 4, actual --> 4\n",
      "*\tprediction --> 2, actual --> 2\n",
      "*\tprediction --> 5, actual --> 5\n",
      "*\tprediction --> 1, actual --> 1\n",
      "*\tprediction --> 1, actual --> 1\n",
      "*\tprediction --> 5, actual --> 5\n",
      "*\tprediction --> 5, actual --> 5\n",
      "*\tprediction --> 0, actual --> 0\n",
      "*\tprediction --> 2, actual --> 2\n",
      "*\tprediction --> 1, actual --> 1\n",
      "*\tprediction --> 5, actual --> 5\n",
      "*\tprediction --> 4, actual --> 4\n",
      "*\tprediction --> 2, actual --> 2\n",
      "*\tprediction --> 5, actual --> 5\n",
      "*\tprediction --> 0, actual --> 0\n",
      "*\tprediction --> 1, actual --> 1\n",
      "*\tprediction --> 1, actual --> 1\n",
      "*\tprediction --> 4, actual --> 4\n",
      "*\tprediction --> 1, actual --> 1\n"
     ]
    }
   ],
   "source": [
    "for i in range(X_test.shape[0]):\n",
    "    temp = np.reshape(X_test[i], (1, X_test[i].shape[0], X_test[i].shape[1]))\n",
    "    temp_class = model.predict_classes(temp, verbose=0)[0]\n",
    "    actual_class = y_test[i].argmax()\n",
    "    truth = \"*\" if actual_class==temp_class else \"/\"\n",
    "    print(\"{}\\tprediction --> {}, actual --> {}\".format(truth, temp_class, actual_class))"
   ]
  },
  {
   "cell_type": "code",
   "execution_count": 20,
   "metadata": {},
   "outputs": [
    {
     "name": "stdout",
     "output_type": "stream",
     "text": [
      "%\tprediction --> 0, actual --> 0\n",
      "%\tprediction --> 0, actual --> 0\n",
      "%\tprediction --> 0, actual --> 0\n",
      "%\tprediction --> 0, actual --> 0\n",
      "%\tprediction --> 0, actual --> 0\n",
      "%\tprediction --> 0, actual --> 0\n",
      "%\tprediction --> 0, actual --> 0\n",
      "%\tprediction --> 0, actual --> 0\n",
      "%\tprediction --> 0, actual --> 0\n",
      "%\tprediction --> 0, actual --> 0\n",
      "%\tprediction --> 1, actual --> 1\n",
      "%\tprediction --> 1, actual --> 1\n",
      "%\tprediction --> 1, actual --> 1\n",
      "%\tprediction --> 1, actual --> 1\n",
      "%\tprediction --> 1, actual --> 1\n",
      "%\tprediction --> 1, actual --> 1\n",
      "%\tprediction --> 1, actual --> 1\n",
      "%\tprediction --> 1, actual --> 1\n",
      "%\tprediction --> 1, actual --> 1\n",
      "%\tprediction --> 1, actual --> 1\n",
      "%\tprediction --> 2, actual --> 2\n",
      "%\tprediction --> 2, actual --> 2\n",
      "%\tprediction --> 2, actual --> 2\n",
      "%\tprediction --> 2, actual --> 2\n",
      "%\tprediction --> 2, actual --> 2\n",
      "%\tprediction --> 2, actual --> 2\n",
      "%\tprediction --> 2, actual --> 2\n",
      "%\tprediction --> 2, actual --> 2\n",
      "%\tprediction --> 2, actual --> 2\n",
      "%\tprediction --> 2, actual --> 2\n",
      "%\tprediction --> 4, actual --> 4\n",
      "%\tprediction --> 4, actual --> 4\n",
      "%\tprediction --> 4, actual --> 4\n",
      "%\tprediction --> 4, actual --> 4\n",
      "%\tprediction --> 4, actual --> 4\n",
      "%\tprediction --> 4, actual --> 4\n",
      "%\tprediction --> 4, actual --> 4\n",
      "%\tprediction --> 4, actual --> 4\n",
      "%\tprediction --> 4, actual --> 4\n",
      "%\tprediction --> 4, actual --> 4\n",
      "%\tprediction --> 5, actual --> 5\n",
      "%\tprediction --> 5, actual --> 5\n",
      "%\tprediction --> 5, actual --> 5\n",
      "%\tprediction --> 5, actual --> 5\n",
      "%\tprediction --> 5, actual --> 5\n",
      "%\tprediction --> 5, actual --> 5\n",
      "%\tprediction --> 5, actual --> 5\n",
      "%\tprediction --> 5, actual --> 5\n",
      "%\tprediction --> 5, actual --> 5\n",
      "%\tprediction --> 5, actual --> 5\n",
      "%\tprediction --> 0, actual --> 0\n",
      "%\tprediction --> 0, actual --> 0\n",
      "%\tprediction --> 0, actual --> 0\n",
      "%\tprediction --> 0, actual --> 0\n",
      "%\tprediction --> 0, actual --> 0\n",
      "%\tprediction --> 0, actual --> 0\n",
      "%\tprediction --> 0, actual --> 0\n",
      "%\tprediction --> 0, actual --> 0\n",
      "%\tprediction --> 0, actual --> 0\n",
      "%\tprediction --> 0, actual --> 0\n",
      "%\tprediction --> 1, actual --> 1\n",
      "%\tprediction --> 1, actual --> 1\n",
      "%\tprediction --> 1, actual --> 1\n",
      "%\tprediction --> 1, actual --> 1\n",
      "%\tprediction --> 1, actual --> 1\n",
      "%\tprediction --> 1, actual --> 1\n",
      "%\tprediction --> 1, actual --> 1\n",
      "%\tprediction --> 1, actual --> 1\n",
      "%\tprediction --> 1, actual --> 1\n",
      "%\tprediction --> 1, actual --> 1\n",
      "%\tprediction --> 2, actual --> 2\n",
      "%\tprediction --> 2, actual --> 2\n",
      "%\tprediction --> 2, actual --> 2\n",
      "%\tprediction --> 2, actual --> 2\n",
      "%\tprediction --> 2, actual --> 2\n",
      "%\tprediction --> 2, actual --> 2\n",
      "%\tprediction --> 2, actual --> 2\n",
      "%\tprediction --> 2, actual --> 2\n",
      "%\tprediction --> 2, actual --> 2\n",
      "%\tprediction --> 2, actual --> 2\n",
      "%\tprediction --> 4, actual --> 4\n",
      "%\tprediction --> 4, actual --> 4\n",
      "%\tprediction --> 4, actual --> 4\n",
      "%\tprediction --> 4, actual --> 4\n",
      "%\tprediction --> 4, actual --> 4\n",
      "%\tprediction --> 4, actual --> 4\n",
      "%\tprediction --> 4, actual --> 4\n",
      "%\tprediction --> 4, actual --> 4\n",
      "%\tprediction --> 4, actual --> 4\n",
      "%\tprediction --> 4, actual --> 4\n",
      "%\tprediction --> 5, actual --> 5\n",
      "%\tprediction --> 5, actual --> 5\n",
      "%\tprediction --> 5, actual --> 5\n",
      "%\tprediction --> 5, actual --> 5\n",
      "%\tprediction --> 5, actual --> 5\n",
      "%\tprediction --> 5, actual --> 5\n",
      "%\tprediction --> 5, actual --> 5\n",
      "%\tprediction --> 5, actual --> 5\n",
      "%\tprediction --> 5, actual --> 5\n",
      "%\tprediction --> 5, actual --> 5\n"
     ]
    }
   ],
   "source": [
    "for i in range(X.shape[0]):\n",
    "    temp = np.reshape(X[i], (1, X[i].shape[0], X[i].shape[1]))\n",
    "    temp_class = model.predict_classes(temp, verbose=0)[0]\n",
    "    actual_class = y[i].argmax()\n",
    "    truth = \"%\" if actual_class==temp_class else \"\\\\\"\n",
    "    print(\"{}\\tprediction --> {}, actual --> {}\".format(truth, temp_class, actual_class))"
   ]
  },
  {
   "cell_type": "code",
   "execution_count": 21,
   "metadata": {},
   "outputs": [],
   "source": [
    "class_num = []\n",
    "for y_c in y_test:\n",
    "    class_num.append(y_c.argmax())"
   ]
  },
  {
   "cell_type": "code",
   "execution_count": 22,
   "metadata": {},
   "outputs": [
    {
     "name": "stdout",
     "output_type": "stream",
     "text": [
      "0 6\n",
      "1 9\n",
      "2 8\n",
      "3 0\n",
      "4 9\n",
      "5 8\n"
     ]
    }
   ],
   "source": [
    "for i in range(6):\n",
    "    print(i, class_num.count(i))"
   ]
  },
  {
   "cell_type": "code",
   "execution_count": 23,
   "metadata": {},
   "outputs": [
    {
     "name": "stdout",
     "output_type": "stream",
     "text": [
      "100/100 [==============================] - 0s     \n",
      "Accuracy: 100.00%\n"
     ]
    }
   ],
   "source": [
    "# Final evaluation of the model\n",
    "scores = model.evaluate(X, y, verbose=1)\n",
    "print(\"Accuracy: %.2f%%\" % (scores[1]*100))"
   ]
  },
  {
   "cell_type": "code",
   "execution_count": 24,
   "metadata": {},
   "outputs": [
    {
     "data": {
      "text/plain": [
       "array([[  1.21437513e-14,   3.12972176e-10,   1.31006830e-10,\n",
       "          1.38499606e-18,   1.00000000e+00,   8.49129354e-16]], dtype=float32)"
      ]
     },
     "execution_count": 24,
     "metadata": {},
     "output_type": "execute_result"
    }
   ],
   "source": [
    "tester = np.reshape(X_test[0], (1, X_test[0].shape[0], X_test[0].shape[1]))\n",
    "model.predict(tester)"
   ]
  },
  {
   "cell_type": "code",
   "execution_count": 25,
   "metadata": {},
   "outputs": [
    {
     "name": "stdout",
     "output_type": "stream",
     "text": [
      "1/1 [==============================] - 0s\n"
     ]
    },
    {
     "data": {
      "text/plain": [
       "array([4])"
      ]
     },
     "execution_count": 25,
     "metadata": {},
     "output_type": "execute_result"
    }
   ],
   "source": [
    "model.predict_classes(tester)"
   ]
  },
  {
   "cell_type": "code",
   "execution_count": 26,
   "metadata": {},
   "outputs": [],
   "source": [
    "dir_to_save = './rnn_model/model_fc2_main.h5'"
   ]
  },
  {
   "cell_type": "code",
   "execution_count": 27,
   "metadata": {},
   "outputs": [],
   "source": [
    "model.save(dir_to_save)"
   ]
  },
  {
   "cell_type": "code",
   "execution_count": 28,
   "metadata": {},
   "outputs": [],
   "source": [
    "# type two model"
   ]
  },
  {
   "cell_type": "code",
   "execution_count": null,
   "metadata": {},
   "outputs": [],
   "source": []
  }
 ],
 "metadata": {
  "kernelspec": {
   "display_name": "Python 3",
   "language": "python",
   "name": "python3"
  },
  "language_info": {
   "codemirror_mode": {
    "name": "ipython",
    "version": 3
   },
   "file_extension": ".py",
   "mimetype": "text/x-python",
   "name": "python",
   "nbconvert_exporter": "python",
   "pygments_lexer": "ipython3",
   "version": "3.6.3"
  }
 },
 "nbformat": 4,
 "nbformat_minor": 2
}
